{
 "cells": [
  {
   "cell_type": "markdown",
   "id": "fb75727c-1668-48f8-84eb-0df3ca0138f6",
   "metadata": {},
   "source": [
    "# AB Testi ile BiddingYöntemlerinin Dönüşümünün Karşılaştırılması"
   ]
  },
  {
   "cell_type": "markdown",
   "id": "6ad411a4-05df-4822-9883-0d8e85c0c98e",
   "metadata": {},
   "source": [
    "## İş Problemi\n",
    " Facebook kısa süre önce mevcut \"maximumbidding\" adı verilen teklif verme türüne alternatif\n",
    " olarak yeni bir teklif türü olan \"average bidding\"’i tanıttı. Müşterilerimizden biri olan abc.com,\n",
    " bu yeni özelliği test etmeye karar verdi ve averagebidding'in maximumbidding'den daha fazla dönüşüm\n",
    " getirip getirmediğini anlamak için bir A/B testi yapmak istiyor. A/B testi 1 aydır devam ediyor ve\n",
    " abc.com şimdi sizden bu A/B testinin sonuçlarını analiz etmenizi bekliyor. abc.com için\n",
    " nihai başarı ölçütü Purchase'dır. Bu nedenle, istatistiksel testler için Purchase metriğine odaklanılmalıdır.\n"
   ]
  },
  {
   "cell_type": "markdown",
   "id": "0f8e0267-f36f-4edd-b918-f44e28c84ff1",
   "metadata": {},
   "source": [
    "## Veri Seti Hikayesi\n",
    "Bir firmanın web site bilgilerini içeren bu veri setinde kullanıcıların gördükleri ve tıkladıkları\n",
    " reklam sayıları gibi bilgilerin yanı sıra buradan gelen kazanç bilgileri yer almaktadır.Kontrol ve Test\n",
    " grubu olmak üzere iki ayrı veri seti vardır. Bu veri setleri ab_testing.xlsx excel’inin ayrı sayfalarında yer\n",
    " almaktadır. Kontrol grubuna Maximum Bidding, test grubuna AverageBiddinguygulanmıştır."
   ]
  },
  {
   "cell_type": "code",
   "execution_count": 37,
   "id": "b511dd14-bc61-4971-afad-74fddb8a40d1",
   "metadata": {},
   "outputs": [],
   "source": [
    "import pandas as pd\n",
    "from scipy.stats import shapiro, levene, ttest_ind, mannwhitneyu"
   ]
  },
  {
   "cell_type": "code",
   "execution_count": 39,
   "id": "d5a7c5e2-dbec-4988-91ab-cf30009675b6",
   "metadata": {},
   "outputs": [],
   "source": [
    "pd.set_option(\"display.max_columns\", None)\n",
    "pd.set_option(\"float.format\", lambda x : '%.4f' % x)"
   ]
  },
  {
   "cell_type": "code",
   "execution_count": null,
   "id": "0c65a859-65fd-40bd-8c4f-230bb87641e7",
   "metadata": {},
   "outputs": [],
   "source": [
    "#Veri setlerimizi okuyalım"
   ]
  },
  {
   "cell_type": "code",
   "execution_count": 4,
   "id": "7f3f243b-e3ce-4291-b4c3-b8ab538ff235",
   "metadata": {},
   "outputs": [
    {
     "data": {
      "text/html": [
       "<div>\n",
       "<style scoped>\n",
       "    .dataframe tbody tr th:only-of-type {\n",
       "        vertical-align: middle;\n",
       "    }\n",
       "\n",
       "    .dataframe tbody tr th {\n",
       "        vertical-align: top;\n",
       "    }\n",
       "\n",
       "    .dataframe thead th {\n",
       "        text-align: right;\n",
       "    }\n",
       "</style>\n",
       "<table border=\"1\" class=\"dataframe\">\n",
       "  <thead>\n",
       "    <tr style=\"text-align: right;\">\n",
       "      <th></th>\n",
       "      <th>Impression</th>\n",
       "      <th>Click</th>\n",
       "      <th>Purchase</th>\n",
       "      <th>Earning</th>\n",
       "    </tr>\n",
       "  </thead>\n",
       "  <tbody>\n",
       "    <tr>\n",
       "      <th>0</th>\n",
       "      <td>82529.459271</td>\n",
       "      <td>6090.077317</td>\n",
       "      <td>665.211255</td>\n",
       "      <td>2311.277143</td>\n",
       "    </tr>\n",
       "    <tr>\n",
       "      <th>1</th>\n",
       "      <td>98050.451926</td>\n",
       "      <td>3382.861786</td>\n",
       "      <td>315.084895</td>\n",
       "      <td>1742.806855</td>\n",
       "    </tr>\n",
       "    <tr>\n",
       "      <th>2</th>\n",
       "      <td>82696.023549</td>\n",
       "      <td>4167.965750</td>\n",
       "      <td>458.083738</td>\n",
       "      <td>1797.827447</td>\n",
       "    </tr>\n",
       "    <tr>\n",
       "      <th>3</th>\n",
       "      <td>109914.400398</td>\n",
       "      <td>4910.882240</td>\n",
       "      <td>487.090773</td>\n",
       "      <td>1696.229178</td>\n",
       "    </tr>\n",
       "    <tr>\n",
       "      <th>4</th>\n",
       "      <td>108457.762630</td>\n",
       "      <td>5987.655811</td>\n",
       "      <td>441.034050</td>\n",
       "      <td>1543.720179</td>\n",
       "    </tr>\n",
       "  </tbody>\n",
       "</table>\n",
       "</div>"
      ],
      "text/plain": [
       "      Impression        Click    Purchase      Earning\n",
       "0   82529.459271  6090.077317  665.211255  2311.277143\n",
       "1   98050.451926  3382.861786  315.084895  1742.806855\n",
       "2   82696.023549  4167.965750  458.083738  1797.827447\n",
       "3  109914.400398  4910.882240  487.090773  1696.229178\n",
       "4  108457.762630  5987.655811  441.034050  1543.720179"
      ]
     },
     "execution_count": 4,
     "metadata": {},
     "output_type": "execute_result"
    }
   ],
   "source": [
    "df1 = pd.read_excel(\"/Users/huseyinefkanalp/Desktop/DataScience/DataSets/ab_testing.xlsx\", sheet_name = \"Control Group\")\n",
    "df1.head()"
   ]
  },
  {
   "cell_type": "code",
   "execution_count": 7,
   "id": "e52748f6-56b8-4e74-ae75-c98c2e222538",
   "metadata": {},
   "outputs": [
    {
     "data": {
      "text/html": [
       "<div>\n",
       "<style scoped>\n",
       "    .dataframe tbody tr th:only-of-type {\n",
       "        vertical-align: middle;\n",
       "    }\n",
       "\n",
       "    .dataframe tbody tr th {\n",
       "        vertical-align: top;\n",
       "    }\n",
       "\n",
       "    .dataframe thead th {\n",
       "        text-align: right;\n",
       "    }\n",
       "</style>\n",
       "<table border=\"1\" class=\"dataframe\">\n",
       "  <thead>\n",
       "    <tr style=\"text-align: right;\">\n",
       "      <th></th>\n",
       "      <th>Impression</th>\n",
       "      <th>Click</th>\n",
       "      <th>Purchase</th>\n",
       "      <th>Earning</th>\n",
       "    </tr>\n",
       "  </thead>\n",
       "  <tbody>\n",
       "    <tr>\n",
       "      <th>0</th>\n",
       "      <td>120103.503796</td>\n",
       "      <td>3216.547958</td>\n",
       "      <td>702.160346</td>\n",
       "      <td>1939.611243</td>\n",
       "    </tr>\n",
       "    <tr>\n",
       "      <th>1</th>\n",
       "      <td>134775.943363</td>\n",
       "      <td>3635.082422</td>\n",
       "      <td>834.054286</td>\n",
       "      <td>2929.405820</td>\n",
       "    </tr>\n",
       "    <tr>\n",
       "      <th>2</th>\n",
       "      <td>107806.620788</td>\n",
       "      <td>3057.143560</td>\n",
       "      <td>422.934258</td>\n",
       "      <td>2526.244877</td>\n",
       "    </tr>\n",
       "    <tr>\n",
       "      <th>3</th>\n",
       "      <td>116445.275526</td>\n",
       "      <td>4650.473911</td>\n",
       "      <td>429.033535</td>\n",
       "      <td>2281.428574</td>\n",
       "    </tr>\n",
       "    <tr>\n",
       "      <th>4</th>\n",
       "      <td>145082.516838</td>\n",
       "      <td>5201.387724</td>\n",
       "      <td>749.860442</td>\n",
       "      <td>2781.697521</td>\n",
       "    </tr>\n",
       "  </tbody>\n",
       "</table>\n",
       "</div>"
      ],
      "text/plain": [
       "      Impression        Click    Purchase      Earning\n",
       "0  120103.503796  3216.547958  702.160346  1939.611243\n",
       "1  134775.943363  3635.082422  834.054286  2929.405820\n",
       "2  107806.620788  3057.143560  422.934258  2526.244877\n",
       "3  116445.275526  4650.473911  429.033535  2281.428574\n",
       "4  145082.516838  5201.387724  749.860442  2781.697521"
      ]
     },
     "execution_count": 7,
     "metadata": {},
     "output_type": "execute_result"
    }
   ],
   "source": [
    "df2 = pd.read_excel(\"/Users/huseyinefkanalp/Desktop/DataScience/DataSets/ab_testing.xlsx\", sheet_name = \"Test Group\")\n",
    "df2.head()"
   ]
  },
  {
   "cell_type": "code",
   "execution_count": 40,
   "id": "18e89c5e-6ac8-48fe-9616-ac124cef727c",
   "metadata": {},
   "outputs": [],
   "source": [
    "#Veri setlerimizin hangi sayfada olduğunu belirtmek için yeni sütunlar oluşturup sayfa isimlerini veriyoruz\n",
    "df1[\"Group\"] = \"Control\"\n",
    "df2[\"Group\"] = \"Test\""
   ]
  },
  {
   "cell_type": "code",
   "execution_count": 41,
   "id": "085398c6-f862-4d2c-998b-85c58494e73e",
   "metadata": {},
   "outputs": [
    {
     "data": {
      "text/html": [
       "<div>\n",
       "<style scoped>\n",
       "    .dataframe tbody tr th:only-of-type {\n",
       "        vertical-align: middle;\n",
       "    }\n",
       "\n",
       "    .dataframe tbody tr th {\n",
       "        vertical-align: top;\n",
       "    }\n",
       "\n",
       "    .dataframe thead th {\n",
       "        text-align: right;\n",
       "    }\n",
       "</style>\n",
       "<table border=\"1\" class=\"dataframe\">\n",
       "  <thead>\n",
       "    <tr style=\"text-align: right;\">\n",
       "      <th></th>\n",
       "      <th>Impression</th>\n",
       "      <th>Click</th>\n",
       "      <th>Purchase</th>\n",
       "      <th>Earning</th>\n",
       "      <th>Group</th>\n",
       "    </tr>\n",
       "  </thead>\n",
       "  <tbody>\n",
       "    <tr>\n",
       "      <th>0</th>\n",
       "      <td>82529.4593</td>\n",
       "      <td>6090.0773</td>\n",
       "      <td>665.2113</td>\n",
       "      <td>2311.2771</td>\n",
       "      <td>Control</td>\n",
       "    </tr>\n",
       "    <tr>\n",
       "      <th>1</th>\n",
       "      <td>98050.4519</td>\n",
       "      <td>3382.8618</td>\n",
       "      <td>315.0849</td>\n",
       "      <td>1742.8069</td>\n",
       "      <td>Control</td>\n",
       "    </tr>\n",
       "    <tr>\n",
       "      <th>2</th>\n",
       "      <td>82696.0235</td>\n",
       "      <td>4167.9657</td>\n",
       "      <td>458.0837</td>\n",
       "      <td>1797.8274</td>\n",
       "      <td>Control</td>\n",
       "    </tr>\n",
       "    <tr>\n",
       "      <th>3</th>\n",
       "      <td>109914.4004</td>\n",
       "      <td>4910.8822</td>\n",
       "      <td>487.0908</td>\n",
       "      <td>1696.2292</td>\n",
       "      <td>Control</td>\n",
       "    </tr>\n",
       "    <tr>\n",
       "      <th>4</th>\n",
       "      <td>108457.7626</td>\n",
       "      <td>5987.6558</td>\n",
       "      <td>441.0340</td>\n",
       "      <td>1543.7202</td>\n",
       "      <td>Control</td>\n",
       "    </tr>\n",
       "  </tbody>\n",
       "</table>\n",
       "</div>"
      ],
      "text/plain": [
       "   Impression     Click  Purchase   Earning    Group\n",
       "0  82529.4593 6090.0773  665.2113 2311.2771  Control\n",
       "1  98050.4519 3382.8618  315.0849 1742.8069  Control\n",
       "2  82696.0235 4167.9657  458.0837 1797.8274  Control\n",
       "3 109914.4004 4910.8822  487.0908 1696.2292  Control\n",
       "4 108457.7626 5987.6558  441.0340 1543.7202  Control"
      ]
     },
     "execution_count": 41,
     "metadata": {},
     "output_type": "execute_result"
    }
   ],
   "source": [
    "#Veri seti birleştirme işlemi\n",
    "df = pd.concat([df1,df2])\n",
    "df.head()"
   ]
  },
  {
   "cell_type": "code",
   "execution_count": 16,
   "id": "4955e92f-d8e6-4e29-a1ac-d90341be6c88",
   "metadata": {},
   "outputs": [
    {
     "data": {
      "text/plain": [
       "Impression    0\n",
       "Click         0\n",
       "Purchase      0\n",
       "Earning       0\n",
       "Group         0\n",
       "dtype: int64"
      ]
     },
     "execution_count": 16,
     "metadata": {},
     "output_type": "execute_result"
    }
   ],
   "source": [
    "df.isnull().sum()"
   ]
  },
  {
   "cell_type": "code",
   "execution_count": 17,
   "id": "31a83915-336a-417c-8375-e9d0cd3df6b6",
   "metadata": {},
   "outputs": [
    {
     "data": {
      "text/plain": [
       "(80, 5)"
      ]
     },
     "execution_count": 17,
     "metadata": {},
     "output_type": "execute_result"
    }
   ],
   "source": [
    "df.shape"
   ]
  },
  {
   "cell_type": "code",
   "execution_count": 12,
   "id": "1111af8d-a9bc-4d6a-b856-1fddf1149d98",
   "metadata": {},
   "outputs": [],
   "source": [
    "#Impression = Reklam görüntüleme sayısı\n",
    "#Click = Reklama tıklama sayısı\n",
    "#Purchase = Tıklanan reklamlar sonrası satın alınan ürün sayısı\n",
    "#Earning = Satın alınan ürünlerin kazancı"
   ]
  },
  {
   "cell_type": "code",
   "execution_count": 36,
   "id": "b6136bd9-6964-44df-81db-ab16d08c3a81",
   "metadata": {},
   "outputs": [],
   "source": [
    "#Hipotez\n",
    "#h0 : m1 = m2 ( Kontrol grubu satın alma sayıları ile test grubu satın alma sayıları arasında istatistiksel anlamlı fark yoktur)\n",
    "#h1 : m1 != m2 (... Vardır)"
   ]
  },
  {
   "cell_type": "code",
   "execution_count": 35,
   "id": "2777f22d-4754-4d47-b319-077db4d2ddb7",
   "metadata": {},
   "outputs": [
    {
     "name": "stdout",
     "output_type": "stream",
     "text": [
      "0.5891\n",
      "0.1541\n"
     ]
    }
   ],
   "source": [
    "#Normallik varsayımı\n",
    "#h0 : m1=m2 (normal dağılmıştır)\n",
    "#h1 : m1 = m2 (normal dağılmamıştır)\n",
    "pvalue = shapiro(df.loc[df[\"Group\"] == \"Control\", \"Purchase\"])[1]\n",
    "print('%.4f' % (pvalue))\n",
    "pvalue = shapiro(df.loc[df[\"Group\"] == \"Test\", \"Purchase\"])[1]\n",
    "print('%.4f' % (pvalue))\n",
    "#Bu değerlerden Normal dağıldığını anlıyoruz çünkü p<0.05 sağlamıyor"
   ]
  },
  {
   "cell_type": "code",
   "execution_count": 34,
   "id": "255dfd84-d17b-498b-8c87-9acefe875760",
   "metadata": {},
   "outputs": [
    {
     "name": "stdout",
     "output_type": "stream",
     "text": [
      "0.1083\n"
     ]
    }
   ],
   "source": [
    "#Varyans Homojenliği\n",
    "#H0 : m1=m2 (Varyanslar homojendir)\n",
    "#H1 : m1!=m2 (Varyanslar homojen değildir)\n",
    "pvalue = levene(df.loc[df[\"Group\"]==\"Control\", \"Purchase\"],\n",
    "               df.loc[df[\"Group\"]== \"Test\", \"Purchase\"])[1]\n",
    "print('%.4f' % (pvalue))\n",
    "#Bu değerden Varyanslarının homojen olduğunu anlıyoru çünkü p<0.05 sağlamıyor"
   ]
  },
  {
   "cell_type": "code",
   "execution_count": 33,
   "id": "2483de6b-1d08-4f0e-af22-abf69a52f710",
   "metadata": {},
   "outputs": [
    {
     "name": "stdout",
     "output_type": "stream",
     "text": [
      "0.3493\n"
     ]
    }
   ],
   "source": [
    "pvalue = ttest_ind(df.loc[df[\"Group\"]==\"Control\", \"Purchase\"],\n",
    "                   df.loc[df[\"Group\"]==\"Test\", \"Purchase\"])[1]\n",
    "print('%.4f' % (pvalue))"
   ]
  },
  {
   "cell_type": "code",
   "execution_count": null,
   "id": "03c016d8-f9fb-447e-97c2-4ec57e229399",
   "metadata": {},
   "outputs": [],
   "source": [
    "#H0 reddedilemez çünkü pvalue<0.05 Sağlamıyor. \n",
    "#*-----Yani Control Grubu ile Test grubunun Purchase değerlerinde istatistiksel olarak anlamlı fark yoktur------*"
   ]
  }
 ],
 "metadata": {
  "kernelspec": {
   "display_name": "Python 3 (ipykernel)",
   "language": "python",
   "name": "python3"
  },
  "language_info": {
   "codemirror_mode": {
    "name": "ipython",
    "version": 3
   },
   "file_extension": ".py",
   "mimetype": "text/x-python",
   "name": "python",
   "nbconvert_exporter": "python",
   "pygments_lexer": "ipython3",
   "version": "3.9.13"
  }
 },
 "nbformat": 4,
 "nbformat_minor": 5
}
